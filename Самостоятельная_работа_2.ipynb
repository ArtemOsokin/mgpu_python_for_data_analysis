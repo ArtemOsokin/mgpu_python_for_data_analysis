{
  "cells": [
    {
      "cell_type": "markdown",
      "metadata": {
        "id": "view-in-github",
        "colab_type": "text"
      },
      "source": [
        "<a href=\"https://colab.research.google.com/github/ArtemOsokin/mgpu_python_for_data_analysis/blob/main/%D0%A1%D0%B0%D0%BC%D0%BE%D1%81%D1%82%D0%BE%D1%8F%D1%82%D0%B5%D0%BB%D1%8C%D0%BD%D0%B0%D1%8F_%D1%80%D0%B0%D0%B1%D0%BE%D1%82%D0%B0_2.ipynb\" target=\"_parent\"><img src=\"https://colab.research.google.com/assets/colab-badge.svg\" alt=\"Open In Colab\"/></a>"
      ]
    },
    {
      "cell_type": "markdown",
      "metadata": {
        "id": "wwrey01HcB2H"
      },
      "source": [
        "# Самостоятельная работа 2. Numpy\n",
        "\n",
        "1. Скачайте этот ноутбук к себе.\n",
        "2. Заполните пропущенные ячейки, отвечая на заданные вопросы. Там должен быть код! (если не сказано обратное)\n",
        "3. Сохраните результат в своём гитхаб репозитории.\n",
        "\n",
        "#### Полезная литература\n",
        "\n",
        "- http://www.numpy.org/\n",
        "- https://jakevdp.github.io/PythonDataScienceHandbook/02.00-introduction-to-numpy.html\n",
        "- https://docs.scipy.org/doc/numpy/user/quickstart.html"
      ]
    },
    {
      "cell_type": "markdown",
      "metadata": {
        "id": "_8fpCr7TcB2O"
      },
      "source": [
        "1) Импортировать numpy и написать версию"
      ]
    },
    {
      "cell_type": "code",
      "execution_count": 1,
      "metadata": {
        "colab": {
          "base_uri": "https://localhost:8080/",
          "height": 35
        },
        "id": "vpFNgEVIcB2P",
        "outputId": "ffa6887b-22bd-4756-ee71-748b5221805c"
      },
      "outputs": [
        {
          "output_type": "execute_result",
          "data": {
            "text/plain": [
              "'1.23.5'"
            ],
            "application/vnd.google.colaboratory.intrinsic+json": {
              "type": "string"
            }
          },
          "metadata": {},
          "execution_count": 1
        }
      ],
      "source": [
        "import numpy as np\n",
        "np.version.version"
      ]
    },
    {
      "cell_type": "markdown",
      "metadata": {
        "id": "0baHlHgscB2Q"
      },
      "source": [
        "2) Создать нулевой вектор размера 10"
      ]
    },
    {
      "cell_type": "code",
      "execution_count": 66,
      "metadata": {
        "colab": {
          "base_uri": "https://localhost:8080/"
        },
        "id": "PGRF3SMIcB2S",
        "outputId": "03e10119-862e-4988-f2b0-8bffaf748693"
      },
      "outputs": [
        {
          "output_type": "execute_result",
          "data": {
            "text/plain": [
              "array([0, 0, 0, 0, 0, 0, 0, 0, 0, 0])"
            ]
          },
          "metadata": {},
          "execution_count": 66
        }
      ],
      "source": [
        "np.zeros(10, dtype=int)"
      ]
    },
    {
      "cell_type": "markdown",
      "metadata": {
        "id": "AmDnKFe_cB2S"
      },
      "source": [
        "3) Создать вектор заполненный 7-ами размера 7"
      ]
    },
    {
      "cell_type": "code",
      "execution_count": 70,
      "metadata": {
        "colab": {
          "base_uri": "https://localhost:8080/"
        },
        "id": "T--Rmlg0cB2S",
        "outputId": "32bae4a6-6bb2-49f8-fd07-d3949d9a07a5"
      },
      "outputs": [
        {
          "output_type": "execute_result",
          "data": {
            "text/plain": [
              "array([7, 7, 7, 7, 7, 7, 7])"
            ]
          },
          "metadata": {},
          "execution_count": 70
        }
      ],
      "source": [
        "np.array([7]*7)"
      ]
    },
    {
      "cell_type": "markdown",
      "metadata": {
        "id": "mUZRa_YxcB2T"
      },
      "source": [
        "4) Создать вектор заполненный четными числами от 10 до 100"
      ]
    },
    {
      "cell_type": "code",
      "execution_count": 12,
      "metadata": {
        "colab": {
          "base_uri": "https://localhost:8080/"
        },
        "id": "B2cTlJqocB2T",
        "outputId": "bec2e2fa-72aa-42ef-b945-c12fe05690e4"
      },
      "outputs": [
        {
          "output_type": "execute_result",
          "data": {
            "text/plain": [
              "array([ 10,  12,  14,  16,  18,  20,  22,  24,  26,  28,  30,  32,  34,\n",
              "        36,  38,  40,  42,  44,  46,  48,  50,  52,  54,  56,  58,  60,\n",
              "        62,  64,  66,  68,  70,  72,  74,  76,  78,  80,  82,  84,  86,\n",
              "        88,  90,  92,  94,  96,  98, 100])"
            ]
          },
          "metadata": {},
          "execution_count": 12
        }
      ],
      "source": [
        "np.arange(10, 102, 2)"
      ]
    },
    {
      "cell_type": "markdown",
      "metadata": {
        "id": "XvaTKaHDcB2U"
      },
      "source": [
        "5) Создать массив случайных чисел и развернуть его задом наперёд"
      ]
    },
    {
      "cell_type": "code",
      "execution_count": 5,
      "metadata": {
        "colab": {
          "base_uri": "https://localhost:8080/"
        },
        "id": "sn0iNsjEcB2U",
        "outputId": "f4a16ba3-83ec-45fa-be93-0e19ea988691"
      },
      "outputs": [
        {
          "output_type": "stream",
          "name": "stdout",
          "text": [
            "[4.65651346e-310 0.00000000e+000 0.00000000e+000 0.00000000e+000\n",
            " 1.02768292e+248 4.42322913e-062 3.27044298e+179 5.89354880e-091\n",
            " 1.34001582e-075 1.96567563e-062]\n"
          ]
        },
        {
          "output_type": "execute_result",
          "data": {
            "text/plain": [
              "array([1.96567563e-062, 1.34001582e-075, 5.89354880e-091, 3.27044298e+179,\n",
              "       4.42322913e-062, 1.02768292e+248, 0.00000000e+000, 0.00000000e+000,\n",
              "       0.00000000e+000, 4.65651346e-310])"
            ]
          },
          "metadata": {},
          "execution_count": 5
        }
      ],
      "source": [
        "arr = np.empty(10)\n",
        "print(arr)\n",
        "np.flip(arr)"
      ]
    },
    {
      "cell_type": "markdown",
      "metadata": {
        "id": "jExX95oTcB2V"
      },
      "source": [
        "6) Создать двумерную матрицу размера 3 на 3, заполненную числами от 0 до 9"
      ]
    },
    {
      "cell_type": "code",
      "execution_count": 10,
      "metadata": {
        "colab": {
          "base_uri": "https://localhost:8080/"
        },
        "id": "tIB2V1XgcB2V",
        "outputId": "12a29807-576f-45ca-fe0d-2f9a506a4837"
      },
      "outputs": [
        {
          "output_type": "execute_result",
          "data": {
            "text/plain": [
              "matrix([[0, 1, 2],\n",
              "        [3, 4, 5],\n",
              "        [6, 7, 8]])"
            ]
          },
          "metadata": {},
          "execution_count": 10
        }
      ],
      "source": [
        "mat = np.arange(9).reshape(3,3)\n",
        "np.matrix(mat)"
      ]
    },
    {
      "cell_type": "markdown",
      "metadata": {
        "id": "2J6tAN08cB2V"
      },
      "source": [
        "7) Создать матрицу размера 4 на 4 с единицами на диагонали смещеной на один наверх."
      ]
    },
    {
      "cell_type": "code",
      "execution_count": 85,
      "metadata": {
        "colab": {
          "base_uri": "https://localhost:8080/"
        },
        "id": "0CxVekkNcB2W",
        "outputId": "8c1c739b-8245-411e-b406-2b1a539add2d"
      },
      "outputs": [
        {
          "output_type": "execute_result",
          "data": {
            "text/plain": [
              "array([[0, 1, 0, 0],\n",
              "       [0, 0, 1, 0],\n",
              "       [0, 0, 0, 1],\n",
              "       [0, 0, 0, 0]])"
            ]
          },
          "metadata": {},
          "execution_count": 85
        }
      ],
      "source": [
        "mat = np.ones(3, dtype=int)\n",
        "np.diag(mat, k=1)"
      ]
    },
    {
      "cell_type": "markdown",
      "metadata": {
        "id": "xUJnHTGgcB2W"
      },
      "source": [
        "8) Создать матрицу с числами в диапазоне от 1 до 4 по диагонали. В других ячейках матрицы должны быть семерки."
      ]
    },
    {
      "cell_type": "code",
      "execution_count": 8,
      "metadata": {
        "colab": {
          "base_uri": "https://localhost:8080/"
        },
        "id": "MvUM9PFWcB2X",
        "outputId": "019c8989-b9fb-4e5e-aa4a-a475c6d2be36"
      },
      "outputs": [
        {
          "output_type": "execute_result",
          "data": {
            "text/plain": [
              "array([[1, 7, 7, 7],\n",
              "       [7, 2, 7, 7],\n",
              "       [7, 7, 3, 7],\n",
              "       [7, 7, 7, 4]])"
            ]
          },
          "metadata": {},
          "execution_count": 8
        }
      ],
      "source": [
        "d = np.arange(1, 5, dtype=int)\n",
        "mat = np.full((4, 4), 7)\n",
        "np.fill_diagonal(mat, d)\n",
        "mat"
      ]
    },
    {
      "cell_type": "markdown",
      "metadata": {
        "id": "x6XsStClcB2X"
      },
      "source": [
        "9) Создать матрицу размера 5 на 5 заполненную чилами от 0 до 4 в строках."
      ]
    },
    {
      "cell_type": "code",
      "execution_count": 48,
      "metadata": {
        "colab": {
          "base_uri": "https://localhost:8080/"
        },
        "id": "-DWODs2TcB2X",
        "outputId": "97f6ec0c-7ebc-47ba-9eed-936bc007628b"
      },
      "outputs": [
        {
          "output_type": "execute_result",
          "data": {
            "text/plain": [
              "array([[0, 1, 2, 3, 4],\n",
              "       [0, 1, 2, 3, 4],\n",
              "       [0, 1, 2, 3, 4],\n",
              "       [0, 1, 2, 3, 4],\n",
              "       [0, 1, 2, 3, 4]])"
            ]
          },
          "metadata": {},
          "execution_count": 48
        }
      ],
      "source": [
        "np.tile(np.arange(5), (5, 1))"
      ]
    },
    {
      "cell_type": "markdown",
      "metadata": {
        "id": "7Zai1gORcB2Y"
      },
      "source": [
        "10) Создать матрицу случайных чисел размера 10 на 10 и отнять среднее по строкам из каждого элемента строки"
      ]
    },
    {
      "cell_type": "code",
      "execution_count": 47,
      "metadata": {
        "colab": {
          "base_uri": "https://localhost:8080/"
        },
        "id": "9W8zfO_jcB2Y",
        "outputId": "07943632-8086-4158-f2ac-29a6999b7d70"
      },
      "outputs": [
        {
          "output_type": "stream",
          "name": "stdout",
          "text": [
            "[[ 0.16688207  0.04483182  0.17135564  0.07226101  0.08366918 -0.2467071\n",
            "  -0.15737968  0.29116727 -0.17300406 -0.25307614]\n",
            " [-0.34953798  0.27581953 -0.3560051   0.29817939 -0.1516173   0.1505483\n",
            "  -0.24551083  0.33234442 -0.41484703  0.46062661]\n",
            " [ 0.57048584 -0.33079024  0.21581274  0.2334864  -0.31200834 -0.0611806\n",
            "  -0.02380516 -0.1548675  -0.12125054 -0.0158826 ]\n",
            " [-0.10180336  0.20494406 -0.28525279 -0.0648656   0.33754087 -0.13901876\n",
            "   0.47006971 -0.0444411  -0.24040205 -0.13677098]\n",
            " [ 0.0085925   0.01452367 -0.42967744  0.32796962  0.01157082  0.19189612\n",
            "   0.32885719 -0.22748348 -0.28737891  0.06112991]\n",
            " [-0.1237051  -0.17985292  0.38313605 -0.37643949 -0.15196328  0.32425546\n",
            "  -0.05630158  0.08574135  0.19265139 -0.09752188]\n",
            " [-0.16533103  0.14909689  0.16152136  0.18243009 -0.11116597 -0.06266486\n",
            "  -0.06619281 -0.22023754 -0.15738205  0.28992592]\n",
            " [ 0.00928959  0.21407847 -0.10898563 -0.07619287 -0.25134952  0.43221987\n",
            "  -0.45008219 -0.1785874   0.23281999  0.17678969]\n",
            " [-0.47659752 -0.02223476  0.25490858  0.12356542 -0.32560352  0.19693356\n",
            "   0.20214528  0.38863494 -0.46342947  0.12167749]\n",
            " [-0.19639329  0.46737232 -0.0065331  -0.40385602  0.49927436 -0.34342869\n",
            "   0.1837696  -0.25800019 -0.36880898  0.42660398]]\n"
          ]
        }
      ],
      "source": [
        "matrix = np.random.rand(10, 10)\n",
        "row_means = np.mean(matrix, axis=1, keepdims=True)\n",
        "mat = matrix - row_means\n",
        "\n",
        "print(mat)"
      ]
    },
    {
      "cell_type": "markdown",
      "metadata": {
        "id": "JIoIkCHGcB2Y"
      },
      "source": [
        "11) Создать матрицу случайных чисел размера 10 на 10 и отнять медиану по столбцам из каждого элемента столбца  "
      ]
    },
    {
      "cell_type": "code",
      "execution_count": 45,
      "metadata": {
        "colab": {
          "base_uri": "https://localhost:8080/"
        },
        "id": "WCbGrj1JcB2Z",
        "outputId": "a92b5090-b2a2-4e9b-e1ab-816bda4c99da"
      },
      "outputs": [
        {
          "output_type": "stream",
          "name": "stdout",
          "text": [
            "[[ 0.25809186 -0.08466447  0.03461365 -0.18588423 -0.43238337 -0.24513118\n",
            "  -0.02520666  0.32171758 -0.2524366  -0.38626017]\n",
            " [-0.0905157  -0.00181456 -0.12342136  0.05753946  0.0795995   0.38754714\n",
            "   0.6612023   0.47273755  0.38410518 -0.00985214]\n",
            " [-0.18869769 -0.41589162 -0.00433754  0.35038075  0.28927723 -0.03980139\n",
            "   0.02520666 -0.23762406  0.2006728  -0.27732871]\n",
            " [ 0.0905157   0.37578505  0.00433754 -0.03572523 -0.37842352 -0.24840694\n",
            "   0.58522583 -0.28296348  0.12616076 -0.31668487]\n",
            " [-0.51381375 -0.07988873  0.08845804  0.03572523 -0.0359091  -0.05753949\n",
            "   0.30753732  0.03264679 -0.26863137 -0.11587904]\n",
            " [ 0.26040312  0.32611009 -0.35444081 -0.27490366  0.37327483  0.3754492\n",
            "  -0.25159726  0.4518178  -0.38899321  0.38143665]\n",
            " [ 0.0974686  -0.36910602 -0.48501118 -0.29550912  0.0359091   0.34288884\n",
            "  -0.20225306 -0.12845274  0.29028974  0.50619438]\n",
            " [-0.56141579  0.35007187  0.23690965  0.21324859 -0.06812153  0.10930063\n",
            "  -0.06917052  0.51653393 -0.12616076  0.00985214]\n",
            " [-0.3388202   0.51977229  0.45428282 -0.45256033 -0.33983606  0.03980139\n",
            "  -0.11824995 -0.0940663  -0.2232959   0.36464099]\n",
            " [ 0.23766107  0.00181456 -0.25447538  0.46175211  0.1156114  -0.38654583\n",
            "   0.57367583 -0.03264679  0.27870475  0.51757464]]\n"
          ]
        }
      ],
      "source": [
        "matrix = np.random.rand(10, 10)\n",
        "medians = np.median(matrix, axis=0)\n",
        "mat = matrix - medians\n",
        "print(mat)"
      ]
    },
    {
      "cell_type": "markdown",
      "metadata": {
        "id": "vIpKBJ9_cB2a"
      },
      "source": [
        "12) Создать матрицу случайных чисел 5x5. Добавить к ней столбецы максимумов и минимумов по строкам. Получится матрица 5x7.  "
      ]
    },
    {
      "cell_type": "code",
      "execution_count": 30,
      "metadata": {
        "colab": {
          "base_uri": "https://localhost:8080/"
        },
        "id": "4ezGz1AXcB2a",
        "outputId": "5e5f0a01-27b2-4668-ce29-0e4a123c8e12"
      },
      "outputs": [
        {
          "output_type": "stream",
          "name": "stdout",
          "text": [
            "[[ 8 10  8  1 10]\n",
            " [ 6  1  1  1  2]\n",
            " [ 1  4  6  2  6]\n",
            " [ 4  2  4  6  1]\n",
            " [10  6  9  2  1]]\n"
          ]
        },
        {
          "output_type": "execute_result",
          "data": {
            "text/plain": [
              "array([[ 8, 10,  8,  1, 10, 10,  1],\n",
              "       [ 6,  1,  1,  1,  2,  6,  1],\n",
              "       [ 1,  4,  6,  2,  6,  6,  1],\n",
              "       [ 4,  2,  4,  6,  1,  6,  1],\n",
              "       [10,  6,  9,  2,  1, 10,  1]])"
            ]
          },
          "metadata": {},
          "execution_count": 30
        }
      ],
      "source": [
        "import random\n",
        "mat = [[random.randint(1, 10) for _ in range(5)] for _ in range(5)]\n",
        "print(np.array(mat))\n",
        "for row in mat:\n",
        "  row.append(max(row))\n",
        "  row.append(min(row))\n",
        "np.array(mat)"
      ]
    },
    {
      "cell_type": "markdown",
      "metadata": {
        "id": "eRfG-FbocB2a"
      },
      "source": [
        "13) Вектор чисел от 1 до 51 преобразовать в вектор нечетных чисел и в вектор четных чисел, поменять их размерности, чтобы получились две матрица. Найти произведение этих матриц. Найти обратную матрицу эётого произведения.  "
      ]
    },
    {
      "cell_type": "code",
      "execution_count": 58,
      "metadata": {
        "colab": {
          "base_uri": "https://localhost:8080/"
        },
        "id": "9ZfV0-nwcB2b",
        "outputId": "d552a4f5-dd3f-41e5-81dd-f84992bf103b"
      },
      "outputs": [
        {
          "output_type": "stream",
          "name": "stdout",
          "text": [
            "[[ 2  4  6  8 10]\n",
            " [12 14 16 18 20]\n",
            " [22 24 26 28 30]\n",
            " [32 34 36 38 40]\n",
            " [42 44 46 48 50]] [[ 1  3  5  7  9]\n",
            " [11 13 15 17 19]\n",
            " [21 23 25 27 29]\n",
            " [31 33 35 37 39]\n",
            " [41 43 45 47 49]]\n",
            "[[ 830  890  950 1010 1070]\n",
            " [1880 2040 2200 2360 2520]\n",
            " [2930 3190 3450 3710 3970]\n",
            " [3980 4340 4700 5060 5420]\n",
            " [5030 5490 5950 6410 6870]]\n"
          ]
        },
        {
          "output_type": "execute_result",
          "data": {
            "text/plain": [
              "0.0"
            ]
          },
          "metadata": {},
          "execution_count": 58
        }
      ],
      "source": [
        "import math\n",
        "\n",
        "\n",
        "def get_even_odd_matrix(vec: np.ndarray) -> tuple[np.matrix, np.matrix]:\n",
        "  odd, even = vec[vec % 2 == 0], vec[vec % 2 != 0]\n",
        "  size = int(math.sqrt(len(odd)))\n",
        "  return np.matrix(odd.reshape(size, size)), np.matrix(even.reshape(size, size))\n",
        "\n",
        "vec = np.arange(1, 51)\n",
        "odd, even = get_even_odd_matrix(vec)\n",
        "print(odd, even)\n",
        "\n",
        "mult_mat = np.matrix(odd.dot(even))\n",
        "print(mult_mat)\n",
        "\n",
        "np.linalg.det(mult_mat)"
      ]
    },
    {
      "cell_type": "markdown",
      "metadata": {
        "id": "jhKa8jytcB2b"
      },
      "source": [
        "14) Создать 8x8 матрицу и заполнить её в шахматном порядке нулями и единицами."
      ]
    },
    {
      "cell_type": "code",
      "execution_count": 11,
      "metadata": {
        "colab": {
          "base_uri": "https://localhost:8080/"
        },
        "id": "TGCOkskNcB2c",
        "outputId": "5c59b63e-1862-4b4e-9f95-6a2be7ae28f2"
      },
      "outputs": [
        {
          "output_type": "execute_result",
          "data": {
            "text/plain": [
              "matrix([[0, 1, 0, 1, 0, 1, 0, 1],\n",
              "        [1, 0, 1, 0, 1, 0, 1, 0],\n",
              "        [0, 1, 0, 1, 0, 1, 0, 1],\n",
              "        [1, 0, 1, 0, 1, 0, 1, 0],\n",
              "        [0, 1, 0, 1, 0, 1, 0, 1],\n",
              "        [1, 0, 1, 0, 1, 0, 1, 0],\n",
              "        [0, 1, 0, 1, 0, 1, 0, 1],\n",
              "        [1, 0, 1, 0, 1, 0, 1, 0]])"
            ]
          },
          "metadata": {},
          "execution_count": 11
        }
      ],
      "source": [
        "import numpy as np\n",
        "mat = np.zeros((8,8), dtype=int)\n",
        "mat[1::2,::2] = 1\n",
        "mat[::2,1::2] = 1\n",
        "np.matrix(mat)"
      ]
    }
  ],
  "metadata": {
    "kernelspec": {
      "display_name": "Python 3",
      "language": "python",
      "name": "python3"
    },
    "language_info": {
      "codemirror_mode": {
        "name": "ipython",
        "version": 3
      },
      "file_extension": ".py",
      "mimetype": "text/x-python",
      "name": "python",
      "nbconvert_exporter": "python",
      "pygments_lexer": "ipython3",
      "version": "3.8.0"
    },
    "colab": {
      "provenance": [],
      "include_colab_link": true
    }
  },
  "nbformat": 4,
  "nbformat_minor": 0
}