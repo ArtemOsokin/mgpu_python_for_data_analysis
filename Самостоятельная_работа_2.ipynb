{
  "cells": [
    {
      "cell_type": "markdown",
      "metadata": {
        "id": "view-in-github",
        "colab_type": "text"
      },
      "source": [
        "<a href=\"https://colab.research.google.com/github/ArtemOsokin/mgpu_python_for_data_analysis/blob/main/%D0%A1%D0%B0%D0%BC%D0%BE%D1%81%D1%82%D0%BE%D1%8F%D1%82%D0%B5%D0%BB%D1%8C%D0%BD%D0%B0%D1%8F_%D1%80%D0%B0%D0%B1%D0%BE%D1%82%D0%B0_2.ipynb\" target=\"_parent\"><img src=\"https://colab.research.google.com/assets/colab-badge.svg\" alt=\"Open In Colab\"/></a>"
      ]
    },
    {
      "cell_type": "markdown",
      "metadata": {
        "id": "wwrey01HcB2H"
      },
      "source": [
        "# Самостоятельная работа 2. Numpy\n",
        "\n",
        "1. Скачайте этот ноутбук к себе.\n",
        "2. Заполните пропущенные ячейки, отвечая на заданные вопросы. Там должен быть код! (если не сказано обратное)\n",
        "3. Сохраните результат в своём гитхаб репозитории.\n",
        "\n",
        "#### Полезная литература\n",
        "\n",
        "- http://www.numpy.org/\n",
        "- https://jakevdp.github.io/PythonDataScienceHandbook/02.00-introduction-to-numpy.html\n",
        "- https://docs.scipy.org/doc/numpy/user/quickstart.html"
      ]
    },
    {
      "cell_type": "markdown",
      "metadata": {
        "id": "_8fpCr7TcB2O"
      },
      "source": [
        "1) Импортировать numpy и написать версию"
      ]
    },
    {
      "cell_type": "code",
      "execution_count": 1,
      "metadata": {
        "colab": {
          "base_uri": "https://localhost:8080/",
          "height": 35
        },
        "id": "vpFNgEVIcB2P",
        "outputId": "ffa6887b-22bd-4756-ee71-748b5221805c"
      },
      "outputs": [
        {
          "output_type": "execute_result",
          "data": {
            "text/plain": [
              "'1.23.5'"
            ],
            "application/vnd.google.colaboratory.intrinsic+json": {
              "type": "string"
            }
          },
          "metadata": {},
          "execution_count": 1
        }
      ],
      "source": [
        "import numpy as np\n",
        "np.version.version"
      ]
    },
    {
      "cell_type": "markdown",
      "metadata": {
        "id": "0baHlHgscB2Q"
      },
      "source": [
        "2) Создать нулевой вектор размера 10"
      ]
    },
    {
      "cell_type": "code",
      "execution_count": 66,
      "metadata": {
        "colab": {
          "base_uri": "https://localhost:8080/"
        },
        "id": "PGRF3SMIcB2S",
        "outputId": "03e10119-862e-4988-f2b0-8bffaf748693"
      },
      "outputs": [
        {
          "output_type": "execute_result",
          "data": {
            "text/plain": [
              "array([0, 0, 0, 0, 0, 0, 0, 0, 0, 0])"
            ]
          },
          "metadata": {},
          "execution_count": 66
        }
      ],
      "source": [
        "np.zeros(10, dtype=int)"
      ]
    },
    {
      "cell_type": "markdown",
      "metadata": {
        "id": "AmDnKFe_cB2S"
      },
      "source": [
        "3) Создать вектор заполненный 7-ами размера 7"
      ]
    },
    {
      "cell_type": "code",
      "execution_count": 70,
      "metadata": {
        "colab": {
          "base_uri": "https://localhost:8080/"
        },
        "id": "T--Rmlg0cB2S",
        "outputId": "32bae4a6-6bb2-49f8-fd07-d3949d9a07a5"
      },
      "outputs": [
        {
          "output_type": "execute_result",
          "data": {
            "text/plain": [
              "array([7, 7, 7, 7, 7, 7, 7])"
            ]
          },
          "metadata": {},
          "execution_count": 70
        }
      ],
      "source": [
        "np.array([7]*7)"
      ]
    },
    {
      "cell_type": "markdown",
      "metadata": {
        "id": "mUZRa_YxcB2T"
      },
      "source": [
        "4) Создать вектор заполненный четными числами от 10 до 100"
      ]
    },
    {
      "cell_type": "code",
      "execution_count": 12,
      "metadata": {
        "colab": {
          "base_uri": "https://localhost:8080/"
        },
        "id": "B2cTlJqocB2T",
        "outputId": "bec2e2fa-72aa-42ef-b945-c12fe05690e4"
      },
      "outputs": [
        {
          "output_type": "execute_result",
          "data": {
            "text/plain": [
              "array([ 10,  12,  14,  16,  18,  20,  22,  24,  26,  28,  30,  32,  34,\n",
              "        36,  38,  40,  42,  44,  46,  48,  50,  52,  54,  56,  58,  60,\n",
              "        62,  64,  66,  68,  70,  72,  74,  76,  78,  80,  82,  84,  86,\n",
              "        88,  90,  92,  94,  96,  98, 100])"
            ]
          },
          "metadata": {},
          "execution_count": 12
        }
      ],
      "source": [
        "np.arange(10, 102, 2)"
      ]
    },
    {
      "cell_type": "markdown",
      "metadata": {
        "id": "XvaTKaHDcB2U"
      },
      "source": [
        "5) Создать массив случайных чисел и развернуть его задом наперёд"
      ]
    },
    {
      "cell_type": "code",
      "execution_count": 5,
      "metadata": {
        "colab": {
          "base_uri": "https://localhost:8080/"
        },
        "id": "sn0iNsjEcB2U",
        "outputId": "f4a16ba3-83ec-45fa-be93-0e19ea988691"
      },
      "outputs": [
        {
          "output_type": "stream",
          "name": "stdout",
          "text": [
            "[4.65651346e-310 0.00000000e+000 0.00000000e+000 0.00000000e+000\n",
            " 1.02768292e+248 4.42322913e-062 3.27044298e+179 5.89354880e-091\n",
            " 1.34001582e-075 1.96567563e-062]\n"
          ]
        },
        {
          "output_type": "execute_result",
          "data": {
            "text/plain": [
              "array([1.96567563e-062, 1.34001582e-075, 5.89354880e-091, 3.27044298e+179,\n",
              "       4.42322913e-062, 1.02768292e+248, 0.00000000e+000, 0.00000000e+000,\n",
              "       0.00000000e+000, 4.65651346e-310])"
            ]
          },
          "metadata": {},
          "execution_count": 5
        }
      ],
      "source": [
        "arr = np.empty(10)\n",
        "print(arr)\n",
        "np.flip(arr)"
      ]
    },
    {
      "cell_type": "markdown",
      "metadata": {
        "id": "jExX95oTcB2V"
      },
      "source": [
        "6) Создать двумерную матрицу размера 3 на 3, заполненную числами от 0 до 9"
      ]
    },
    {
      "cell_type": "code",
      "execution_count": 10,
      "metadata": {
        "colab": {
          "base_uri": "https://localhost:8080/"
        },
        "id": "tIB2V1XgcB2V",
        "outputId": "12a29807-576f-45ca-fe0d-2f9a506a4837"
      },
      "outputs": [
        {
          "output_type": "execute_result",
          "data": {
            "text/plain": [
              "matrix([[0, 1, 2],\n",
              "        [3, 4, 5],\n",
              "        [6, 7, 8]])"
            ]
          },
          "metadata": {},
          "execution_count": 10
        }
      ],
      "source": [
        "mat = np.arange(9).reshape(3,3)\n",
        "np.matrix(mat)"
      ]
    },
    {
      "cell_type": "markdown",
      "metadata": {
        "id": "2J6tAN08cB2V"
      },
      "source": [
        "7) Создать матрицу размера 4 на 4 с единицами на диагонали смещеной на один наверх."
      ]
    },
    {
      "cell_type": "code",
      "execution_count": 85,
      "metadata": {
        "colab": {
          "base_uri": "https://localhost:8080/"
        },
        "id": "0CxVekkNcB2W",
        "outputId": "8c1c739b-8245-411e-b406-2b1a539add2d"
      },
      "outputs": [
        {
          "output_type": "execute_result",
          "data": {
            "text/plain": [
              "array([[0, 1, 0, 0],\n",
              "       [0, 0, 1, 0],\n",
              "       [0, 0, 0, 1],\n",
              "       [0, 0, 0, 0]])"
            ]
          },
          "metadata": {},
          "execution_count": 85
        }
      ],
      "source": [
        "mat = np.ones(3, dtype=int)\n",
        "np.diag(mat, k=1)"
      ]
    },
    {
      "cell_type": "markdown",
      "metadata": {
        "id": "xUJnHTGgcB2W"
      },
      "source": [
        "8) Создать матрицу с числами в диапазоне от 1 до 4 по диагонали. В других ячейках матрицы должны быть семерки."
      ]
    },
    {
      "cell_type": "code",
      "execution_count": 8,
      "metadata": {
        "colab": {
          "base_uri": "https://localhost:8080/"
        },
        "id": "MvUM9PFWcB2X",
        "outputId": "019c8989-b9fb-4e5e-aa4a-a475c6d2be36"
      },
      "outputs": [
        {
          "output_type": "execute_result",
          "data": {
            "text/plain": [
              "array([[1, 7, 7, 7],\n",
              "       [7, 2, 7, 7],\n",
              "       [7, 7, 3, 7],\n",
              "       [7, 7, 7, 4]])"
            ]
          },
          "metadata": {},
          "execution_count": 8
        }
      ],
      "source": [
        "d = np.arange(1, 5, dtype=int)\n",
        "mat = np.full((4, 4), 7)\n",
        "np.fill_diagonal(mat, d)\n",
        "mat"
      ]
    },
    {
      "cell_type": "markdown",
      "metadata": {
        "id": "x6XsStClcB2X"
      },
      "source": [
        "9) Создать матрицу размера 5 на 5 заполненную чилами от 0 до 4 в строках."
      ]
    },
    {
      "cell_type": "code",
      "execution_count": 9,
      "metadata": {
        "colab": {
          "base_uri": "https://localhost:8080/"
        },
        "id": "-DWODs2TcB2X",
        "outputId": "5f2e4d74-a4ab-4a09-9dbe-6320601237c8"
      },
      "outputs": [
        {
          "output_type": "execute_result",
          "data": {
            "text/plain": [
              "matrix([[0, 1, 2, 3, 4],\n",
              "        [0, 1, 2, 3, 4],\n",
              "        [0, 1, 2, 3, 4],\n",
              "        [0, 1, 2, 3, 4],\n",
              "        [0, 1, 2, 3, 4]])"
            ]
          },
          "metadata": {},
          "execution_count": 9
        }
      ],
      "source": [
        "np.matrix([np.arange(5) for _ in range(5)])"
      ]
    },
    {
      "cell_type": "markdown",
      "metadata": {
        "id": "7Zai1gORcB2Y"
      },
      "source": [
        "10) Создать матрицу случайных чисел размера 10 на 10 и отнять среднее по строкам из каждого элемента строки"
      ]
    },
    {
      "cell_type": "code",
      "execution_count": 65,
      "metadata": {
        "colab": {
          "base_uri": "https://localhost:8080/"
        },
        "id": "9W8zfO_jcB2Y",
        "outputId": "eb272565-2c26-4077-ee97-a59c2e833b82"
      },
      "outputs": [
        {
          "output_type": "stream",
          "name": "stdout",
          "text": [
            "[[7 9 2 2 7 8 5 1 8 5]\n",
            " [1 1 4 6 4 8 0 4 5 9]\n",
            " [2 8 0 3 7 5 9 7 9 8]\n",
            " [1 9 8 1 9 7 3 1 3 9]\n",
            " [7 2 4 8 6 3 1 9 2 5]\n",
            " [6 3 5 2 8 6 1 3 6 6]\n",
            " [3 1 1 2 7 8 3 6 4 2]\n",
            " [5 1 4 1 2 2 0 3 7 6]\n",
            " [7 8 0 7 1 3 0 1 4 4]\n",
            " [3 4 4 5 6 3 7 6 4 1]]\n",
            "[[ 1  3 -3 -3  1  2  0 -4  2  0]\n",
            " [-3 -3  0  1  0  3 -4  0  0  4]\n",
            " [-3  2 -5 -2  1  0  3  1  3  2]\n",
            " [-4  3  2 -4  3  1 -2 -4 -2  3]\n",
            " [ 2 -2  0  3  1 -1 -3  4 -2  0]\n",
            " [ 1 -1  0 -2  3  1 -3 -1  1  1]\n",
            " [ 0 -2 -2 -1  3  4  0  2  0 -1]\n",
            " [ 1 -2  0 -2 -1 -1 -3  0  3  2]\n",
            " [ 3  4 -3  3 -2  0 -3 -2  0  0]\n",
            " [-1  0  0  0  1 -1  2  1  0 -3]]\n"
          ]
        }
      ],
      "source": [
        "rng = np.random.default_rng(10)\n",
        "arr = np.array(\n",
        "    [rng.integers(low=0, high=10, size=10) for _ in range(10)],\n",
        "    dtype=int\n",
        ")\n",
        "print(arr)\n",
        "for row in arr:\n",
        "  avg = sum(row)/len(row)\n",
        "  for i in range(len(row)):\n",
        "    row[i] = row[i] - avg\n",
        "print(arr)"
      ]
    },
    {
      "cell_type": "markdown",
      "metadata": {
        "id": "JIoIkCHGcB2Y"
      },
      "source": [
        "11) Создать матрицу случайных чисел размера 10 на 10 и отнять медиану по столбцам из каждого элемента столбца  "
      ]
    },
    {
      "cell_type": "code",
      "execution_count": 42,
      "metadata": {
        "colab": {
          "base_uri": "https://localhost:8080/"
        },
        "id": "WCbGrj1JcB2Z",
        "outputId": "48aab0a7-0699-430b-b6a8-7d2ae253281b"
      },
      "outputs": [
        {
          "output_type": "stream",
          "name": "stdout",
          "text": [
            "[[7 9 2 2 7 8 5 1 8 5]\n",
            " [1 1 4 6 4 8 0 4 5 9]\n",
            " [2 8 0 3 7 5 9 7 9 8]\n",
            " [1 9 8 1 9 7 3 1 3 9]\n",
            " [7 2 4 8 6 3 1 9 2 5]\n",
            " [6 3 5 2 8 6 1 3 6 6]\n",
            " [3 1 1 2 7 8 3 6 4 2]\n",
            " [5 1 4 1 2 2 0 3 7 6]\n",
            " [7 8 0 7 1 3 0 1 4 4]\n",
            " [3 4 4 5 6 3 7 6 4 1]]\n",
            "[4.  3.5 4.  2.5 6.5 5.5 2.  3.5 4.5 5.5]\n",
            "[[ 3  5 -2  0  0  2  3 -2  3  0]\n",
            " [-2 -2  0  3 -2  4 -2  0  1  3]\n",
            " [-1  4 -2  0  1  1  7  4  5  3]\n",
            " [-2  5  5 -1  5  4  1 -2 -1  5]\n",
            " [ 4 -1  1  6  2  0  0  6 -2  1]\n",
            " [ 3  0  4  0  6  3  0  0  2  3]\n",
            " [ 0 -1  0  0  5  5  2  4  0 -1]\n",
            " [ 2 -1  3  0  0 -1  0  1  4  3]\n",
            " [ 4  6  0  7  0  0  0  0  1  1]\n",
            " [ 0  2  3  5  4  0  6  5  2 -1]]\n"
          ]
        }
      ],
      "source": [
        "rng = np.random.default_rng(10)\n",
        "mat = np.array(\n",
        "    [rng.integers(low=0, high=10, size=10) for _ in range(10)],\n",
        "    dtype=int\n",
        ")\n",
        "print(mat)\n",
        "med = np.median(mat, axis=0)\n",
        "for st in range(len(mat)):\n",
        "  for col in range(len(mat[st])):\n",
        "    mat[col][st] -= med[st]\n",
        "print(arr)"
      ]
    },
    {
      "cell_type": "markdown",
      "metadata": {
        "id": "vIpKBJ9_cB2a"
      },
      "source": [
        "12) Создать матрицу случайных чисел 5x5. Добавить к ней столбецы максимумов и минимумов по строкам. Получится матрица 5x7.  "
      ]
    },
    {
      "cell_type": "code",
      "execution_count": 30,
      "metadata": {
        "colab": {
          "base_uri": "https://localhost:8080/"
        },
        "id": "4ezGz1AXcB2a",
        "outputId": "5e5f0a01-27b2-4668-ce29-0e4a123c8e12"
      },
      "outputs": [
        {
          "output_type": "stream",
          "name": "stdout",
          "text": [
            "[[ 8 10  8  1 10]\n",
            " [ 6  1  1  1  2]\n",
            " [ 1  4  6  2  6]\n",
            " [ 4  2  4  6  1]\n",
            " [10  6  9  2  1]]\n"
          ]
        },
        {
          "output_type": "execute_result",
          "data": {
            "text/plain": [
              "array([[ 8, 10,  8,  1, 10, 10,  1],\n",
              "       [ 6,  1,  1,  1,  2,  6,  1],\n",
              "       [ 1,  4,  6,  2,  6,  6,  1],\n",
              "       [ 4,  2,  4,  6,  1,  6,  1],\n",
              "       [10,  6,  9,  2,  1, 10,  1]])"
            ]
          },
          "metadata": {},
          "execution_count": 30
        }
      ],
      "source": [
        "import random\n",
        "mat = [[random.randint(1, 10) for _ in range(5)] for _ in range(5)]\n",
        "print(np.array(mat))\n",
        "for row in mat:\n",
        "  row.append(max(row))\n",
        "  row.append(min(row))\n",
        "np.array(mat)"
      ]
    },
    {
      "cell_type": "markdown",
      "metadata": {
        "id": "eRfG-FbocB2a"
      },
      "source": [
        "13) Вектор чисел от 1 до 51 преобразовать в вектор нечетных чисел и в вектор четных чисел, поменять их размерности, чтобы получились две матрица. Найти произведение этих матриц. Найти обратную матрицу эётого произведения.  "
      ]
    },
    {
      "cell_type": "code",
      "execution_count": 13,
      "metadata": {
        "colab": {
          "base_uri": "https://localhost:8080/"
        },
        "id": "9ZfV0-nwcB2b",
        "outputId": "66839498-1d7f-4f85-cd07-36adefb079c6"
      },
      "outputs": [
        {
          "output_type": "stream",
          "name": "stdout",
          "text": [
            "[[ 2  4  6  8 10]\n",
            " [12 14 16 18 20]\n",
            " [22 24 26 28 30]\n",
            " [32 34 36 38 40]\n",
            " [42 44 46 48 50]] [[ 1  3  5  7  9]\n",
            " [11 13 15 17 19]\n",
            " [21 23 25 27 29]\n",
            " [31 33 35 37 39]\n",
            " [41 43 45 47 49]]\n",
            "[[   2   12   30   56   90]\n",
            " [ 132  182  240  306  380]\n",
            " [ 462  552  650  756  870]\n",
            " [ 992 1122 1260 1406 1560]\n",
            " [1722 1892 2070 2256 2450]]\n"
          ]
        },
        {
          "output_type": "execute_result",
          "data": {
            "text/plain": [
              "0.0"
            ]
          },
          "metadata": {},
          "execution_count": 13
        }
      ],
      "source": [
        "import math\n",
        "\n",
        "\n",
        "def get_even_odd_matrix(vec: np.ndarray) -> tuple[np.matrix, np.matrix]:\n",
        "  odd, even = [], []\n",
        "  for i in vec:\n",
        "    if i%2 == 0:\n",
        "      odd.append(i)\n",
        "    else:\n",
        "      even.append(i)\n",
        "  odd, even = np.array(odd), np.array(even)\n",
        "  size = int(math.sqrt(len(odd)))\n",
        "  return np.matrix(odd.reshape(size, size)), np.matrix(even.reshape(size, size))\n",
        "\n",
        "vec = np.arange(1, 51)\n",
        "odd, even = get_even_odd_matrix(vec)\n",
        "print(odd, even)\n",
        "\n",
        "mult_mat = np.matrix(np.multiply(odd, even))\n",
        "print(mult_mat)\n",
        "\n",
        "np.linalg.det(mult_mat)"
      ]
    },
    {
      "cell_type": "markdown",
      "metadata": {
        "id": "jhKa8jytcB2b"
      },
      "source": [
        "14) Создать 8x8 матрицу и заполнить её в шахматном порядке нулями и единицами."
      ]
    },
    {
      "cell_type": "code",
      "execution_count": 11,
      "metadata": {
        "colab": {
          "base_uri": "https://localhost:8080/"
        },
        "id": "TGCOkskNcB2c",
        "outputId": "5c59b63e-1862-4b4e-9f95-6a2be7ae28f2"
      },
      "outputs": [
        {
          "output_type": "execute_result",
          "data": {
            "text/plain": [
              "matrix([[0, 1, 0, 1, 0, 1, 0, 1],\n",
              "        [1, 0, 1, 0, 1, 0, 1, 0],\n",
              "        [0, 1, 0, 1, 0, 1, 0, 1],\n",
              "        [1, 0, 1, 0, 1, 0, 1, 0],\n",
              "        [0, 1, 0, 1, 0, 1, 0, 1],\n",
              "        [1, 0, 1, 0, 1, 0, 1, 0],\n",
              "        [0, 1, 0, 1, 0, 1, 0, 1],\n",
              "        [1, 0, 1, 0, 1, 0, 1, 0]])"
            ]
          },
          "metadata": {},
          "execution_count": 11
        }
      ],
      "source": [
        "import numpy as np\n",
        "mat = np.zeros((8,8), dtype=int)\n",
        "mat[1::2,::2] = 1\n",
        "mat[::2,1::2] = 1\n",
        "np.matrix(mat)"
      ]
    }
  ],
  "metadata": {
    "kernelspec": {
      "display_name": "Python 3",
      "language": "python",
      "name": "python3"
    },
    "language_info": {
      "codemirror_mode": {
        "name": "ipython",
        "version": 3
      },
      "file_extension": ".py",
      "mimetype": "text/x-python",
      "name": "python",
      "nbconvert_exporter": "python",
      "pygments_lexer": "ipython3",
      "version": "3.8.0"
    },
    "colab": {
      "provenance": [],
      "include_colab_link": true
    }
  },
  "nbformat": 4,
  "nbformat_minor": 0
}