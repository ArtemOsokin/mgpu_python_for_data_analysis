{
  "nbformat": 4,
  "nbformat_minor": 0,
  "metadata": {
    "colab": {
      "provenance": [],
      "authorship_tag": "ABX9TyORAFsX+AsOMyW/uz4KzOV/",
      "include_colab_link": true
    },
    "kernelspec": {
      "name": "python3",
      "display_name": "Python 3"
    },
    "language_info": {
      "name": "python"
    }
  },
  "cells": [
    {
      "cell_type": "markdown",
      "metadata": {
        "id": "view-in-github",
        "colab_type": "text"
      },
      "source": [
        "<a href=\"https://colab.research.google.com/github/ArtemOsokin/mgpu_python_for_data_analysis/blob/main/%D0%A1%D0%B0%D0%BC%D0%BE%D1%81%D1%82%D0%BE%D1%8F%D1%82%D0%B5%D0%BB%D1%8C%D0%BD%D0%B0%D1%8F_%D1%80%D0%B0%D0%B1%D0%BE%D1%82%D0%B0_1.ipynb\" target=\"_parent\"><img src=\"https://colab.research.google.com/assets/colab-badge.svg\" alt=\"Open In Colab\"/></a>"
      ]
    },
    {
      "cell_type": "markdown",
      "source": [
        "### [1] Написать цикл для выведения на экран каждой буквы своего ФИО"
      ],
      "metadata": {
        "id": "UPMf5zu6WBtI"
      }
    },
    {
      "cell_type": "code",
      "execution_count": 10,
      "metadata": {
        "colab": {
          "base_uri": "https://localhost:8080/"
        },
        "id": "GxyDaUImV4xq",
        "outputId": "54533d50-0566-47d6-817c-9d7487b44e12"
      },
      "outputs": [
        {
          "output_type": "stream",
          "name": "stdout",
          "text": [
            "О\n",
            "с\n",
            "о\n",
            "к\n",
            "и\n",
            "н\n",
            " \n",
            "А\n",
            "р\n",
            "т\n",
            "ё\n",
            "м\n",
            " \n",
            "И\n",
            "б\n",
            "р\n",
            "а\n",
            "г\n",
            "и\n",
            "м\n",
            "о\n",
            "в\n",
            "и\n",
            "ч\n"
          ]
        }
      ],
      "source": [
        "FIO = 'Осокин Артём Ибрагимович'\n",
        "for alphabet in FIO:\n",
        "  print(alphabet)"
      ]
    },
    {
      "cell_type": "markdown",
      "source": [
        "### [2]  Написать функцию для перевода рубля в йену c округлением до 2х знаков после запятой."
      ],
      "metadata": {
        "id": "Zl4ahDl_XTBd"
      }
    },
    {
      "cell_type": "code",
      "source": [
        "import requests\n",
        "\n",
        "CBR_URL = \"https://www.cbr-xml-daily.ru/daily_json.js\"\n",
        "\n",
        "def convert_rub_to_yen(rub: int) -> float:\n",
        "  response = requests.get(url=CBR_URL)\n",
        "  yen = rub / response.json()['Valute']['JPY']['Value']\n",
        "  return float(f'{yen:.2f}')\n",
        "\n",
        "\n",
        "print(convert_rub_to_yen(100))"
      ],
      "metadata": {
        "colab": {
          "base_uri": "https://localhost:8080/"
        },
        "id": "G_jcPRU8XZWq",
        "outputId": "1f1f34de-38f6-4dba-9720-8968b20d1a57"
      },
      "execution_count": 15,
      "outputs": [
        {
          "output_type": "stream",
          "name": "stdout",
          "text": [
            "1.53\n"
          ]
        }
      ]
    }
  ]
}